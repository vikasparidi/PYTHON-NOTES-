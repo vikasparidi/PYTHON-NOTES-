{
 "cells": [
  {
   "cell_type": "markdown",
   "metadata": {},
   "source": [
    "# LOOPS CONCEPT :"
   ]
  },
  {
   "cell_type": "code",
   "execution_count": 225,
   "metadata": {},
   "outputs": [],
   "source": [
    "l=[[1,2,3,45,6],(1,2,3,4,5,6),(3,4,5,6,6,7),set([1,2,3,3,4,5,5,6,6,6]),{\"k1\": \"sudh\",\"k2\":\"ineuron\",\"k3\":\"kumar\",3:6,7:8},[\"ineuron\",\"ds\"]]\n",
    "\n",
    "###considering the above list and performing different permutation n combinations from the list."
   ]
  },
  {
   "cell_type": "markdown",
   "metadata": {},
   "source": [
    "Q1. EXTRACT ALL THE LIST ENTITIES FROM THE ABOVE LIST \n"
   ]
  },
  {
   "cell_type": "code",
   "execution_count": 226,
   "metadata": {},
   "outputs": [
    {
     "name": "stdout",
     "output_type": "stream",
     "text": [
      "1\n",
      "2\n",
      "3\n",
      "45\n",
      "6\n",
      "ineuron\n",
      "ds\n",
      "[1, 2, 3, 45, 6, 'ineuron', 'ds']\n"
     ]
    }
   ],
   "source": [
    "l1=[]                              ### creating a blank list\n",
    "for i in l:                        ### using of for loop to access every element of the list l\n",
    "    if type(i) == list:            ### checking of condition to which datatype the index belongs to\n",
    "        for j in i:                ### accessing of evevry entitiy inside of the datatype(list)\n",
    "            print(j)               ### printing of each and every entitiy inside the index \n",
    "            l1.append(j)           ### storing of every entities inside the list\n",
    "print(l1)                          ### printing of the new list"
   ]
  },
  {
   "cell_type": "markdown",
   "metadata": {},
   "source": [
    "Q2: EXTRACT ALL THE DICTIONARY ENTITIES FROM THE LIST 'L' AND CREATE A SEPERATE LIST?\n",
    "    "
   ]
  },
  {
   "cell_type": "code",
   "execution_count": 227,
   "metadata": {},
   "outputs": [
    {
     "name": "stdout",
     "output_type": "stream",
     "text": [
      "('k1', 'sudh')\n",
      "('k2', 'ineuron')\n",
      "('k3', 'kumar')\n",
      "(3, 6)\n",
      "(7, 8)\n",
      "[('k1', 'sudh'), ('k2', 'ineuron'), ('k3', 'kumar'), (3, 6), (7, 8)]\n"
     ]
    }
   ],
   "source": [
    "l2=[]                                ### creating of balnk list l2                                 \n",
    "for i in l:                          ### using of for loop to access every element of the list l\n",
    "    if type(i) == dict:              ### checking of condition to which datatype the index belongs to \n",
    "        for j in i.items():          ### accessing of the dictionary elements(key & value pair)\n",
    "            print(j)                 ### printing of the key and value pair(these will be in the form of tuple) \n",
    "            l2.append(j)             ### storing of all key and value pair inside the list(tuples inside a list)\n",
    "print(l2)                            ### printing of the new list."
   ]
  },
  {
   "cell_type": "markdown",
   "metadata": {},
   "source": [
    "Q3: EXTRACT ALL THE TUPLE ENTITIES FROM THE LIST L ?\n",
    "    "
   ]
  },
  {
   "cell_type": "code",
   "execution_count": 228,
   "metadata": {},
   "outputs": [
    {
     "name": "stdout",
     "output_type": "stream",
     "text": [
      "(1, 2, 3, 4, 5, 6)\n",
      "1\n",
      "2\n",
      "3\n",
      "4\n",
      "5\n",
      "6\n",
      "(3, 4, 5, 6, 6, 7)\n",
      "3\n",
      "4\n",
      "5\n",
      "6\n",
      "6\n",
      "7\n"
     ]
    }
   ],
   "source": [
    "for i in l:                        ### using of for loop to access every element of the list l\n",
    "    if type(i) == tuple:           ### checking of the condition to which datatype the index belongs to\n",
    "        print(i)                   ### printing of the entire tuple present at the index\n",
    "        for j in i:                ### accessing of every element inside the tuple\n",
    "            print(j)               ### printing of every entity inside the tuple"
   ]
  },
  {
   "cell_type": "markdown",
   "metadata": {},
   "source": [
    "Q3: EXTRACT ALL THE NUMERICAL PART OF KEY AND VALUE OF DICTIONARY ,FROM THE LIST L?"
   ]
  },
  {
   "cell_type": "code",
   "execution_count": 229,
   "metadata": {},
   "outputs": [
    {
     "name": "stdout",
     "output_type": "stream",
     "text": [
      "3\n",
      "6\n",
      "7\n",
      "8\n"
     ]
    }
   ],
   "source": [
    "\n",
    "for i in l:                               ### using of for loop to access every element of the list\n",
    "    if type(i) == dict:                   ### checking of the condition to which datatype the index belongs to\n",
    "        for key,value in i.items():       ### accessing of key and values inside the dictionary\n",
    "            if type(key) == int:    \n",
    "                print(key)               ### determing whether the type of key and values are integers and if they are of int datatype.\n",
    "            if type(value)  == int:      ###  print the keys ansd values \n",
    "                print(value)\n",
    "            "
   ]
  },
  {
   "cell_type": "markdown",
   "metadata": {},
   "source": [
    "Q4: FIND THE SUM OF ALL NUMERIC DATA IN THE LIST L?"
   ]
  },
  {
   "cell_type": "code",
   "execution_count": 230,
   "metadata": {},
   "outputs": [
    {
     "name": "stdout",
     "output_type": "stream",
     "text": [
      "140\n"
     ]
    }
   ],
   "source": [
    "sum = 0                                ### intializing the sum as \n",
    "for i in l:                            ### accessing of every element of the index\n",
    "    for j in i:                        ### accessing of elements inside the index\n",
    "        if type(j) == int:             ### checking the type of index entity as int and if condition satisfies,\n",
    "            sum = sum+j                ### as intial sum =0, for every value of j sum gets changes and new sum is found\n",
    "print(sum)                             ### printing of the total sum "
   ]
  },
  {
   "cell_type": "markdown",
   "metadata": {},
   "source": [
    "Q5: FIND OUT THE ALL ODD VALUES OF THE LIST DATATYPE AND STORE THEM IN NEW LIST? CONSIDER THE LIST 'l' AND PERFORM"
   ]
  },
  {
   "cell_type": "code",
   "execution_count": 231,
   "metadata": {},
   "outputs": [
    {
     "data": {
      "text/plain": [
       "[[1, 2, 3, 45, 6],\n",
       " (1, 2, 3, 4, 5, 6),\n",
       " (3, 4, 5, 6, 6, 7),\n",
       " {1, 2, 3, 4, 5, 6},\n",
       " {'k1': 'sudh', 'k2': 'ineuron', 'k3': 'kumar', 3: 6, 7: 8},\n",
       " ['ineuron', 'ds']]"
      ]
     },
     "execution_count": 231,
     "metadata": {},
     "output_type": "execute_result"
    }
   ],
   "source": [
    "l\n"
   ]
  },
  {
   "cell_type": "code",
   "execution_count": 232,
   "metadata": {},
   "outputs": [
    {
     "name": "stdout",
     "output_type": "stream",
     "text": [
      "[1, 3, 45]\n"
     ]
    }
   ],
   "source": [
    "l4=[]                                 ### creating of the blank list l4\n",
    "for i in l:                           ### accessing of every element at the indexes\n",
    "    if type(i) == list:               ### checking whether the type of index is list or not \n",
    "        for j in i:                   ### if the index is list, then accessing of elements inside the list\n",
    "            if type(j) == int:        ### cheking the type of element, whether int kind of datatype\n",
    "                if j%2 !=0:           ### condition to get the odd number, when we divide with 2 remainder should not be 0\n",
    "                    l4.append(j)      ### storing of odd values \n",
    "print(l4)"
   ]
  },
  {
   "cell_type": "markdown",
   "metadata": {},
   "source": [
    "Q6: TRY TO EXTRACT ONLY INEURON FROM THE LIST L?"
   ]
  },
  {
   "cell_type": "code",
   "execution_count": 233,
   "metadata": {},
   "outputs": [
    {
     "name": "stdout",
     "output_type": "stream",
     "text": [
      "ineuron\n",
      "ineuron\n"
     ]
    }
   ],
   "source": [
    "for i in l:                                     ###accessing every element of list at the indexes\n",
    "    if type(i) == str or list or tuple or set:  ### checking the datatype of index as list,set,string or tuple\n",
    "        for j in i:                             ### running of loop over the indexes of datatypes\n",
    "            if j == 'ineuron':                  ###checking whether the element is 'ineuron'\n",
    "                print(j)                        ### if the element at particular index is ineuron print it\n",
    "                \n",
    "    if type(i) == dict:                         ###checking dictionanry datatype present at the index\n",
    "        for k,v in i.items():                   ### accessing of key and values inside the dictionary\n",
    "            if k ==\"ineuron\":\n",
    "                print(k)\n",
    "            if v ==\"ineuron\":                   ###creating if statement to find ineuron is present in the keys and values\n",
    "                print(v)\n",
    "                                                ###print ineuron if it is been present in the key, or in the value"
   ]
  },
  {
   "cell_type": "markdown",
   "metadata": {},
   "source": [
    "Q7: TRY TO FIND OUT NUMBER OF OCCURENCES OF DATA IN THE LIST'l'?"
   ]
  },
  {
   "cell_type": "code",
   "execution_count": 234,
   "metadata": {},
   "outputs": [
    {
     "data": {
      "text/plain": [
       "[[1, 2, 3, 45, 6],\n",
       " (1, 2, 3, 4, 5, 6),\n",
       " (3, 4, 5, 6, 6, 7),\n",
       " {1, 2, 3, 4, 5, 6},\n",
       " {'k1': 'sudh', 'k2': 'ineuron', 'k3': 'kumar', 3: 6, 7: 8},\n",
       " ['ineuron', 'ds']]"
      ]
     },
     "execution_count": 234,
     "metadata": {},
     "output_type": "execute_result"
    }
   ],
   "source": [
    "l"
   ]
  },
  {
   "cell_type": "code",
   "execution_count": 235,
   "metadata": {},
   "outputs": [
    {
     "data": {
      "text/plain": [
       "list"
      ]
     },
     "execution_count": 235,
     "metadata": {},
     "output_type": "execute_result"
    }
   ],
   "source": [
    "type(l)"
   ]
  },
  {
   "cell_type": "code",
   "execution_count": 236,
   "metadata": {},
   "outputs": [],
   "source": [
    "count = {}\n",
    "for i in l:\n",
    "    for j in i:\n",
    "        if j in count.keys():\n",
    "            a = count.get(j)+1\n",
    "            count[j] = a\n",
    "        else:\n",
    "            count[j] = 1"
   ]
  },
  {
   "cell_type": "code",
   "execution_count": 237,
   "metadata": {},
   "outputs": [
    {
     "data": {
      "text/plain": [
       "{1: 3,\n",
       " 2: 3,\n",
       " 3: 5,\n",
       " 45: 1,\n",
       " 6: 5,\n",
       " 4: 3,\n",
       " 5: 3,\n",
       " 7: 2,\n",
       " 'k1': 1,\n",
       " 'k2': 1,\n",
       " 'k3': 1,\n",
       " 'ineuron': 1,\n",
       " 'ds': 1}"
      ]
     },
     "execution_count": 237,
     "metadata": {},
     "output_type": "execute_result"
    }
   ],
   "source": [
    "count"
   ]
  },
  {
   "cell_type": "markdown",
   "metadata": {},
   "source": [
    "Q7.FIND OUT NUMBER OF KEYS IN THE DICTIONARY THAT IS PRESENT INSIDE THE LIST'l'?"
   ]
  },
  {
   "cell_type": "code",
   "execution_count": 238,
   "metadata": {},
   "outputs": [
    {
     "data": {
      "text/plain": [
       "[[1, 2, 3, 45, 6],\n",
       " (1, 2, 3, 4, 5, 6),\n",
       " (3, 4, 5, 6, 6, 7),\n",
       " {1, 2, 3, 4, 5, 6},\n",
       " {'k1': 'sudh', 'k2': 'ineuron', 'k3': 'kumar', 3: 6, 7: 8},\n",
       " ['ineuron', 'ds']]"
      ]
     },
     "execution_count": 238,
     "metadata": {},
     "output_type": "execute_result"
    }
   ],
   "source": [
    "l"
   ]
  },
  {
   "cell_type": "code",
   "execution_count": 239,
   "metadata": {},
   "outputs": [
    {
     "name": "stdout",
     "output_type": "stream",
     "text": [
      "5\n"
     ]
    }
   ],
   "source": [
    "for i in l:                            ### accessing of elements inside the list 'l'\n",
    "    if type(i) == dict:                ### checking the type of index as dictionary\n",
    "        print(len(i.keys()))           ### using len function finding out the number of keys in the dictionary\n"
   ]
  },
  {
   "cell_type": "markdown",
   "metadata": {},
   "source": [
    "Q8 : FILTER OUT ALL THE STRING DATA IN THE LIST 'l' AND CREATE A SEPERATE LIST L2?"
   ]
  },
  {
   "cell_type": "code",
   "execution_count": 240,
   "metadata": {},
   "outputs": [
    {
     "data": {
      "text/plain": [
       "[[1, 2, 3, 45, 6],\n",
       " (1, 2, 3, 4, 5, 6),\n",
       " (3, 4, 5, 6, 6, 7),\n",
       " {1, 2, 3, 4, 5, 6},\n",
       " {'k1': 'sudh', 'k2': 'ineuron', 'k3': 'kumar', 3: 6, 7: 8},\n",
       " ['ineuron', 'ds']]"
      ]
     },
     "execution_count": 240,
     "metadata": {},
     "output_type": "execute_result"
    }
   ],
   "source": [
    "l"
   ]
  },
  {
   "cell_type": "code",
   "execution_count": 241,
   "metadata": {},
   "outputs": [
    {
     "name": "stdout",
     "output_type": "stream",
     "text": [
      "OVER ALL STRING DATA IN THE GIVEN LIST IS ['k1', 'k2', 'k3', 'ineuron', 'ds']\n"
     ]
    }
   ],
   "source": [
    "l2=[]                                                 ### creating an empty list l2\n",
    "for i in l:                                           ### accessing to the elements at the indexes\n",
    "    for j in i:\n",
    "        if type(j) == str:                            ###determing whether the index entity is string \n",
    "               l2.append(j)                           ### appending all the string type elements into list l2\n",
    "print(\"OVER ALL STRING DATA IN THE GIVEN LIST IS\" ,l2) ### printing out the new list"
   ]
  },
  {
   "cell_type": "markdown",
   "metadata": {},
   "source": [
    "Q9: FIND OUT THE APHANUMERIC IN THE LIST \"l\"?"
   ]
  },
  {
   "cell_type": "code",
   "execution_count": 242,
   "metadata": {},
   "outputs": [
    {
     "data": {
      "text/plain": [
       "[[1, 2, 3, 45, 6],\n",
       " (1, 2, 3, 4, 5, 6),\n",
       " (3, 4, 5, 6, 6, 7),\n",
       " {1, 2, 3, 4, 5, 6},\n",
       " {'k1': 'sudh', 'k2': 'ineuron', 'k3': 'kumar', 3: 6, 7: 8},\n",
       " ['ineuron', 'ds']]"
      ]
     },
     "execution_count": 242,
     "metadata": {},
     "output_type": "execute_result"
    }
   ],
   "source": [
    "l"
   ]
  },
  {
   "cell_type": "code",
   "execution_count": 243,
   "metadata": {},
   "outputs": [
    {
     "name": "stdout",
     "output_type": "stream",
     "text": [
      "OVER ALL STRING DATA IN THE GIVEN LIST IS ['k1', 'k2', 'k3', 'ineuron', 'ds']\n",
      "True\n",
      "True\n",
      "True\n",
      "True\n",
      "True\n"
     ]
    }
   ],
   "source": [
    "l2=[]                                                 ### creating an empty list l2\n",
    "for i in l:                                           ### accessing to the elements at the indexes\n",
    "    for j in i:\n",
    "        if type(j) == str:                            ###determing whether the index entity is string \n",
    "               l2.append(j)                           ### appending all the string type elements into list l2\n",
    "print(\"OVER ALL STRING DATA IN THE GIVEN LIST IS\" ,l2)### printing out the new list\n",
    "\n",
    "### NOW FINDING OUT THE ALPHANUMERIC VALUES FROM THE LIST\n",
    "for i in l2:\n",
    "    if type(i) == str:\n",
    "        print(i.isalnum())"
   ]
  },
  {
   "cell_type": "markdown",
   "metadata": {},
   "source": [
    "Q10: FIND OUT THE MULTIPLICATION OF ALL THE NUMERICAL DATA INSIDE THE LIST\"l\"?"
   ]
  },
  {
   "cell_type": "code",
   "execution_count": 244,
   "metadata": {},
   "outputs": [
    {
     "data": {
      "text/plain": [
       "[[1, 2, 3, 45, 6],\n",
       " (1, 2, 3, 4, 5, 6),\n",
       " (3, 4, 5, 6, 6, 7),\n",
       " {1, 2, 3, 4, 5, 6},\n",
       " {'k1': 'sudh', 'k2': 'ineuron', 'k3': 'kumar', 3: 6, 7: 8},\n",
       " ['ineuron', 'ds']]"
      ]
     },
     "execution_count": 244,
     "metadata": {},
     "output_type": "execute_result"
    }
   ],
   "source": [
    "l"
   ]
  },
  {
   "cell_type": "code",
   "execution_count": null,
   "metadata": {},
   "outputs": [],
   "source": []
  },
  {
   "cell_type": "code",
   "execution_count": 245,
   "metadata": {},
   "outputs": [
    {
     "data": {
      "text/plain": [
       "266655836160000"
      ]
     },
     "execution_count": 245,
     "metadata": {},
     "output_type": "execute_result"
    }
   ],
   "source": [
    "m"
   ]
  },
  {
   "cell_type": "code",
   "execution_count": 246,
   "metadata": {},
   "outputs": [],
   "source": [
    "q=[1,2,3,4,5,6]\n",
    "s=1\n",
    "for i in q:\n",
    "    if type(i) == int:\n",
    "        s=s*i"
   ]
  },
  {
   "cell_type": "code",
   "execution_count": 247,
   "metadata": {},
   "outputs": [
    {
     "data": {
      "text/plain": [
       "720"
      ]
     },
     "execution_count": 247,
     "metadata": {},
     "output_type": "execute_result"
    }
   ],
   "source": [
    "s"
   ]
  },
  {
   "cell_type": "code",
   "execution_count": 248,
   "metadata": {},
   "outputs": [
    {
     "data": {
      "text/plain": [
       "[[1, 2, 3, 45, 6],\n",
       " (1, 2, 3, 4, 5, 6),\n",
       " (3, 4, 5, 6, 6, 7),\n",
       " {1, 2, 3, 4, 5, 6},\n",
       " {'k1': 'sudh', 'k2': 'ineuron', 'k3': 'kumar', 3: 6, 7: 8},\n",
       " ['ineuron', 'ds']]"
      ]
     },
     "execution_count": 248,
     "metadata": {},
     "output_type": "execute_result"
    }
   ],
   "source": [
    "l\n",
    "    "
   ]
  },
  {
   "cell_type": "code",
   "execution_count": 251,
   "metadata": {},
   "outputs": [
    {
     "name": "stdout",
     "output_type": "stream",
     "text": [
      "[1, 2, 3, 45, 6, 1, 2, 3, 4, 5, 6, 3, 4, 5, 6, 6, 7, 1, 2, 3, 4, 5, 6, 'k1', 'k2', 'k3', 3, 7, 'ineuron', 'ds']\n"
     ]
    }
   ],
   "source": [
    "l1=[]\n",
    "for i in l:\n",
    "    for j in i:\n",
    "        l1.append(j)\n",
    "print(l1)"
   ]
  },
  {
   "cell_type": "markdown",
   "metadata": {},
   "source": [
    "QUESTION : PRINT THE FOLLOWING PATTERN\n",
    "\n",
    "ineuron\n",
    "\n",
    "ineuron ineuron\n",
    "\n",
    "ineuron ineuron ineuron\n",
    "\n",
    "ineuron ineuron ineuron ineuron "
   ]
  },
  {
   "cell_type": "code",
   "execution_count": 1,
   "metadata": {},
   "outputs": [
    {
     "name": "stdout",
     "output_type": "stream",
     "text": [
      "enter number of rows7\n",
      "ineuron \n",
      "ineuron ineuron \n",
      "ineuron ineuron ineuron \n",
      "ineuron ineuron ineuron ineuron \n",
      "ineuron ineuron ineuron ineuron ineuron \n",
      "ineuron ineuron ineuron ineuron ineuron ineuron \n",
      "ineuron ineuron ineuron ineuron ineuron ineuron ineuron \n"
     ]
    }
   ],
   "source": [
    "row=int(input(\"enter number of rows\"))\n",
    "for i in range(row):\n",
    "    print(\"ineuron \"*(i+1))"
   ]
  },
  {
   "cell_type": "markdown",
   "metadata": {},
   "source": [
    "QUESTION: PRINT THE FOLLOWING PATTERN:\n",
    "              \n",
    "                ineuron  \n",
    "            \n",
    "            ineuron  ineuron\n",
    "        \n",
    "        ineuron ineuron ineuron \n",
    "        \n",
    "           ineuron  ineuron\n",
    "        \n",
    "                ineuron "
   ]
  },
  {
   "cell_type": "code",
   "execution_count": 3,
   "metadata": {},
   "outputs": [
    {
     "name": "stdout",
     "output_type": "stream",
     "text": [
      "enter number of row6\n",
      "                                                  \n",
      "                     ineuron                      \n",
      "                 ineuron ineuron                  \n",
      "             ineuron ineuron ineuron              \n",
      "                 ineuron ineuron                  \n",
      "                     ineuron                      \n"
     ]
    }
   ],
   "source": [
    "row =int(input(\"enter number of row\"))\n",
    "for i in range(row):\n",
    "    if i<=3:\n",
    "        n=i\n",
    "    else:\n",
    "        n=6-i\n",
    "    print((\"ineuron \"*n).center(50,\" \"))"
   ]
  },
  {
   "cell_type": "code",
   "execution_count": null,
   "metadata": {},
   "outputs": [],
   "source": []
  }
 ],
 "metadata": {
  "kernelspec": {
   "display_name": "Python 3",
   "language": "python",
   "name": "python3"
  },
  "language_info": {
   "codemirror_mode": {
    "name": "ipython",
    "version": 3
   },
   "file_extension": ".py",
   "mimetype": "text/x-python",
   "name": "python",
   "nbconvert_exporter": "python",
   "pygments_lexer": "ipython3",
   "version": "3.8.5"
  }
 },
 "nbformat": 4,
 "nbformat_minor": 4
}
