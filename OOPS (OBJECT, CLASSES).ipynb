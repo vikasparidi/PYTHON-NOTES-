{
 "cells": [
  {
   "cell_type": "markdown",
   "metadata": {},
   "source": [
    "# OOPs - Object Oriented programming "
   ]
  },
  {
   "cell_type": "markdown",
   "metadata": {},
   "source": [
    "Let us take an example that a car is standing infront of a building. \n",
    "\n",
    "Here we all know that how car looks like.\n",
    "\n",
    "But when we mention a company & name of the car, that particular car will come into our visualisation.\n",
    "\n",
    "Here car is a specific set of items. just like set of laptops, animal, etc.,\n",
    "\n",
    "\"\"CLASS IS NOTHING BUT THE SEPERATION OF CERTAIN TYPE OF ENTITY.\"\""
   ]
  },
  {
   "cell_type": "markdown",
   "metadata": {},
   "source": [
    "\"\"OBJECT IS A REAL LIFE ENTITY THAT WE SPECIFY\"\"\n",
    "\n",
    "               OR\n",
    "    \n",
    "\"\"OBJECT IS THE VARIABLE OF A CLASS \"\""
   ]
  },
  {
   "cell_type": "code",
   "execution_count": 2,
   "metadata": {},
   "outputs": [],
   "source": [
    "#EXAMPLE:\n",
    "\n",
    "a =10\n",
    "b =34\n",
    "c =90\n",
    "\n",
    "#here a, b & c are the variables that will come under the class>>int\n",
    "#a, b & c are object of class \"int\""
   ]
  },
  {
   "cell_type": "markdown",
   "metadata": {},
   "source": [
    "\n",
    "\n",
    "\n",
    "MAIN PURPOSE OF USING OOPS IS TO INCREASE RE-USEABILITY, IMPLEMENT MODULAR CODING.\n",
    "\n"
   ]
  },
  {
   "cell_type": "code",
   "execution_count": 1,
   "metadata": {},
   "outputs": [],
   "source": [
    "class car:            #creating a class car\n",
    "    pass"
   ]
  },
  {
   "cell_type": "code",
   "execution_count": 2,
   "metadata": {},
   "outputs": [],
   "source": [
    "audiq7 = car()       #assigning of variable to the class car"
   ]
  },
  {
   "cell_type": "code",
   "execution_count": 3,
   "metadata": {},
   "outputs": [
    {
     "data": {
      "text/plain": [
       "<__main__.car at 0x263faa34100>"
      ]
     },
     "execution_count": 3,
     "metadata": {},
     "output_type": "execute_result"
    }
   ],
   "source": [
    "audiq7"
   ]
  },
  {
   "cell_type": "code",
   "execution_count": 4,
   "metadata": {},
   "outputs": [],
   "source": [
    "audiq7.milage=10\n",
    "audiq7.year=2020\n",
    "audiq7.make=68\n",
    "audiq7.model=\"guh\""
   ]
  },
  {
   "cell_type": "code",
   "execution_count": 5,
   "metadata": {},
   "outputs": [
    {
     "data": {
      "text/plain": [
       "10"
      ]
     },
     "execution_count": 5,
     "metadata": {},
     "output_type": "execute_result"
    }
   ],
   "source": [
    "audiq7.milage"
   ]
  },
  {
   "cell_type": "code",
   "execution_count": 6,
   "metadata": {},
   "outputs": [
    {
     "ename": "NameError",
     "evalue": "name 'milage' is not defined",
     "output_type": "error",
     "traceback": [
      "\u001b[1;31m---------------------------------------------------------------------------\u001b[0m",
      "\u001b[1;31mNameError\u001b[0m                                 Traceback (most recent call last)",
      "\u001b[1;32m<ipython-input-6-e6d08bcec70d>\u001b[0m in \u001b[0;36m<module>\u001b[1;34m\u001b[0m\n\u001b[1;32m----> 1\u001b[1;33m \u001b[0mmilage\u001b[0m\u001b[1;33m\u001b[0m\u001b[1;33m\u001b[0m\u001b[0m\n\u001b[0m",
      "\u001b[1;31mNameError\u001b[0m: name 'milage' is not defined"
     ]
    }
   ],
   "source": [
    "milage"
   ]
  },
  {
   "cell_type": "code",
   "execution_count": 7,
   "metadata": {},
   "outputs": [],
   "source": [
    "nano = car()"
   ]
  },
  {
   "cell_type": "code",
   "execution_count": 9,
   "metadata": {},
   "outputs": [],
   "source": [
    "nano.milage=90\n",
    "nano.year=2021\n",
    "nano.make=899\n",
    "nano.model=\"ghjo\"\n",
    "nano.engineno=234243"
   ]
  },
  {
   "cell_type": "code",
   "execution_count": 11,
   "metadata": {},
   "outputs": [
    {
     "name": "stdout",
     "output_type": "stream",
     "text": [
      "90 10\n"
     ]
    }
   ],
   "source": [
    "print(nano.milage,audiq7.milage)"
   ]
  },
  {
   "cell_type": "code",
   "execution_count": 12,
   "metadata": {},
   "outputs": [],
   "source": [
    "#write once and utilise that many times makes the code reusable"
   ]
  },
  {
   "cell_type": "code",
   "execution_count": 13,
   "metadata": {},
   "outputs": [],
   "source": [
    "class car:\n",
    "    def __init__ (self, milage,year,make,model):    #here self is a pointer\n",
    "        self.milage = milage\n",
    "        self.year = year\n",
    "        self.make = make\n",
    "        self.model = model"
   ]
  },
  {
   "cell_type": "markdown",
   "metadata": {},
   "source": [
    "SELF IS NOT A KEYWORD\n",
    "\n",
    "WE CAN USE ANY STRING AS A POINTER \n",
    "\n",
    "\n"
   ]
  },
  {
   "cell_type": "code",
   "execution_count": 14,
   "metadata": {},
   "outputs": [
    {
     "data": {
      "text/plain": [
       "__main__.car"
      ]
     },
     "execution_count": 14,
     "metadata": {},
     "output_type": "execute_result"
    }
   ],
   "source": [
    "car"
   ]
  },
  {
   "cell_type": "code",
   "execution_count": 16,
   "metadata": {},
   "outputs": [
    {
     "ename": "TypeError",
     "evalue": "__init__() missing 4 required positional arguments: 'milage', 'year', 'make', and 'model'",
     "output_type": "error",
     "traceback": [
      "\u001b[1;31m---------------------------------------------------------------------------\u001b[0m",
      "\u001b[1;31mTypeError\u001b[0m                                 Traceback (most recent call last)",
      "\u001b[1;32m<ipython-input-16-16870c6ee572>\u001b[0m in \u001b[0;36m<module>\u001b[1;34m\u001b[0m\n\u001b[1;32m----> 1\u001b[1;33m \u001b[0mnano1\u001b[0m \u001b[1;33m=\u001b[0m \u001b[0mcar\u001b[0m\u001b[1;33m(\u001b[0m\u001b[1;33m)\u001b[0m\u001b[1;33m\u001b[0m\u001b[1;33m\u001b[0m\u001b[0m\n\u001b[0m",
      "\u001b[1;31mTypeError\u001b[0m: __init__() missing 4 required positional arguments: 'milage', 'year', 'make', and 'model'"
     ]
    }
   ],
   "source": [
    "nano1 = car()"
   ]
  },
  {
   "cell_type": "code",
   "execution_count": 18,
   "metadata": {},
   "outputs": [],
   "source": [
    "nano1=car(20,2020,4541485,'dzgvb')\n",
    "audiq71 = car(45,5464,54,\"asddf\")"
   ]
  },
  {
   "cell_type": "code",
   "execution_count": 24,
   "metadata": {},
   "outputs": [
    {
     "data": {
      "text/plain": [
       "20"
      ]
     },
     "execution_count": 24,
     "metadata": {},
     "output_type": "execute_result"
    }
   ],
   "source": [
    "nano1.milage         #IT IS A CLASS VARIABLE "
   ]
  },
  {
   "cell_type": "code",
   "execution_count": 21,
   "metadata": {},
   "outputs": [
    {
     "data": {
      "text/plain": [
       "'dzgvb'"
      ]
     },
     "execution_count": 21,
     "metadata": {},
     "output_type": "execute_result"
    }
   ],
   "source": [
    "nano1.model"
   ]
  },
  {
   "cell_type": "code",
   "execution_count": 22,
   "metadata": {},
   "outputs": [
    {
     "data": {
      "text/plain": [
       "<__main__.car at 0x263fbf74ee0>"
      ]
     },
     "execution_count": 22,
     "metadata": {},
     "output_type": "execute_result"
    }
   ],
   "source": [
    "nano1"
   ]
  },
  {
   "cell_type": "code",
   "execution_count": 23,
   "metadata": {},
   "outputs": [],
   "source": [
    "#we can create any number od variables inside a class, define the class only once."
   ]
  },
  {
   "cell_type": "code",
   "execution_count": 25,
   "metadata": {},
   "outputs": [],
   "source": [
    "class car12:\n",
    "    def __init__ (self, m,y,ma,mo):    #here self is a pointer\n",
    "        self.milage = m\n",
    "        self.year = y\n",
    "        self.make = ma\n",
    "        self.model = mo"
   ]
  },
  {
   "cell_type": "code",
   "execution_count": 26,
   "metadata": {},
   "outputs": [],
   "source": [
    "volvo = car12(12,525,64,'gfghjkl;')"
   ]
  },
  {
   "cell_type": "code",
   "execution_count": 28,
   "metadata": {},
   "outputs": [
    {
     "data": {
      "text/plain": [
       "12"
      ]
     },
     "execution_count": 28,
     "metadata": {},
     "output_type": "execute_result"
    }
   ],
   "source": [
    "volvo.milage"
   ]
  },
  {
   "cell_type": "code",
   "execution_count": 29,
   "metadata": {},
   "outputs": [
    {
     "data": {
      "text/plain": [
       "525"
      ]
     },
     "execution_count": 29,
     "metadata": {},
     "output_type": "execute_result"
    }
   ],
   "source": [
    "volvo.year"
   ]
  },
  {
   "cell_type": "code",
   "execution_count": 31,
   "metadata": {},
   "outputs": [
    {
     "ename": "AttributeError",
     "evalue": "'car12' object has no attribute 'm'",
     "output_type": "error",
     "traceback": [
      "\u001b[1;31m---------------------------------------------------------------------------\u001b[0m",
      "\u001b[1;31mAttributeError\u001b[0m                            Traceback (most recent call last)",
      "\u001b[1;32m<ipython-input-31-5b6ea68dec9b>\u001b[0m in \u001b[0;36m<module>\u001b[1;34m\u001b[0m\n\u001b[1;32m----> 1\u001b[1;33m \u001b[0mvolvo\u001b[0m\u001b[1;33m.\u001b[0m\u001b[0mm\u001b[0m     \u001b[1;31m# m is not the variable associated with the class car12\u001b[0m\u001b[1;33m\u001b[0m\u001b[1;33m\u001b[0m\u001b[0m\n\u001b[0m",
      "\u001b[1;31mAttributeError\u001b[0m: 'car12' object has no attribute 'm'"
     ]
    }
   ],
   "source": [
    "volvo.m     # m is not the variable associated with the class car12"
   ]
  },
  {
   "cell_type": "code",
   "execution_count": 32,
   "metadata": {},
   "outputs": [],
   "source": [
    "#calculating the current age of car"
   ]
  },
  {
   "cell_type": "code",
   "execution_count": 34,
   "metadata": {},
   "outputs": [],
   "source": [
    "class car:\n",
    "    def __init__(self,m,y,ma,mo):\n",
    "        self.milage = m\n",
    "        self.year = y\n",
    "        self.make = ma\n",
    "        self.model = mo\n",
    "    def age(self,current_age):\n",
    "        return current_age - self.year"
   ]
  },
  {
   "cell_type": "code",
   "execution_count": 50,
   "metadata": {},
   "outputs": [],
   "source": [
    "nano98=car(12,122,252,'dg')\n"
   ]
  },
  {
   "cell_type": "code",
   "execution_count": 37,
   "metadata": {},
   "outputs": [
    {
     "data": {
      "text/plain": [
       "<bound method car.age of <__main__.car object at 0x00000263FC369FD0>>"
      ]
     },
     "execution_count": 37,
     "metadata": {},
     "output_type": "execute_result"
    }
   ],
   "source": [
    "nano98.age"
   ]
  },
  {
   "cell_type": "code",
   "execution_count": 38,
   "metadata": {},
   "outputs": [
    {
     "data": {
      "text/plain": [
       "1899"
      ]
     },
     "execution_count": 38,
     "metadata": {},
     "output_type": "execute_result"
    }
   ],
   "source": [
    "nano98.age(2021)"
   ]
  },
  {
   "cell_type": "code",
   "execution_count": 51,
   "metadata": {},
   "outputs": [],
   "source": [
    "class car:\n",
    "    def __init__(self,m,y,ma,mo):\n",
    "        self.milage = m\n",
    "        self.year = y\n",
    "        self.make = ma\n",
    "        self.model = mo\n",
    "    def age(self,current_age):\n",
    "        return current_age - self.year\n",
    "    def milage1(self):\n",
    "        print(\"print milage of car\" ,self.milage)"
   ]
  },
  {
   "cell_type": "code",
   "execution_count": 52,
   "metadata": {},
   "outputs": [
    {
     "name": "stdout",
     "output_type": "stream",
     "text": [
      "print milage of car 12\n"
     ]
    }
   ],
   "source": [
    "nano98.milage1()"
   ]
  },
  {
   "cell_type": "code",
   "execution_count": 53,
   "metadata": {},
   "outputs": [
    {
     "data": {
      "text/plain": [
       "<__main__.car at 0x263fbc00910>"
      ]
     },
     "execution_count": 53,
     "metadata": {},
     "output_type": "execute_result"
    }
   ],
   "source": [
    "nano98"
   ]
  },
  {
   "cell_type": "code",
   "execution_count": 54,
   "metadata": {},
   "outputs": [],
   "source": [
    "#DON'T WANT TO SEE <__main__.car at 0x263fbc00910> THIS TYPE OF MESSAGES"
   ]
  },
  {
   "cell_type": "code",
   "execution_count": 55,
   "metadata": {},
   "outputs": [],
   "source": [
    "#WANT TO SEE SOME CUSTOM MESSAGE WHEN CALLING OF CLASS"
   ]
  },
  {
   "cell_type": "code",
   "execution_count": null,
   "metadata": {},
   "outputs": [],
   "source": [
    "# __str__ is a inbuilt method we use to get custom messages"
   ]
  },
  {
   "cell_type": "code",
   "execution_count": 56,
   "metadata": {},
   "outputs": [],
   "source": [
    "class car:\n",
    "    def __init__(self,m,y,ma,mo):\n",
    "        self.milage = m\n",
    "        self.year = y\n",
    "        self.make = ma\n",
    "        self.model = mo\n",
    "    def age(self,current_age):\n",
    "        return current_age - self.year\n",
    "    def milage1(self):\n",
    "        print(\"print milage of car\" ,self.milage)\n",
    "    def __str__(c):\n",
    "        return \"this is my car class i have created\""
   ]
  },
  {
   "cell_type": "code",
   "execution_count": 58,
   "metadata": {},
   "outputs": [],
   "source": [
    "nano98=car(12,122,252,'dg')"
   ]
  },
  {
   "cell_type": "code",
   "execution_count": 59,
   "metadata": {},
   "outputs": [
    {
     "name": "stdout",
     "output_type": "stream",
     "text": [
      "this is my car class i have created\n"
     ]
    }
   ],
   "source": [
    "print(nano98)"
   ]
  },
  {
   "cell_type": "code",
   "execution_count": 60,
   "metadata": {},
   "outputs": [],
   "source": [
    "#CREATE A SYSTEM WHERE IT WILL BE HELPFUL TO STORE ALL THE DETAILS OF A STUDENT"
   ]
  },
  {
   "cell_type": "code",
   "execution_count": 83,
   "metadata": {},
   "outputs": [],
   "source": [
    "class student:\n",
    "    def __init__(self , name , rollno , joindate , currenttopic):\n",
    "        self.name = name\n",
    "        self.rollno = rollno\n",
    "        self.joindate = joindate\n",
    "        self.currenttopic = currenttopic\n",
    "\n",
    "    def crt_topic(self):\n",
    "        print(\"this is current topic discussed earlier\" , self.currenttopic)\n",
    "    \n",
    "    def roll_no(self):\n",
    "        if type(self.rollno) == str:\n",
    "            print(\"do nothing\")\n",
    "        else:\n",
    "            return str(self.rollno)\n",
    "        \n",
    "    def duration(self,current_date):\n",
    "        print('duration of student in there clss is ',current_date - self.joindate)\n",
    "    \n",
    "    def __str__(self):\n",
    "        return \"this is a student class where we can get all the data\""
   ]
  },
  {
   "cell_type": "code",
   "execution_count": 84,
   "metadata": {},
   "outputs": [],
   "source": [
    "vikas = student(\"vikas\",5678768,2021,\"oops\")"
   ]
  },
  {
   "cell_type": "code",
   "execution_count": 85,
   "metadata": {},
   "outputs": [
    {
     "name": "stdout",
     "output_type": "stream",
     "text": [
      "duration of student in there clss is  1\n"
     ]
    }
   ],
   "source": [
    "vikas.duration(2022)"
   ]
  },
  {
   "cell_type": "code",
   "execution_count": 86,
   "metadata": {},
   "outputs": [
    {
     "data": {
      "text/plain": [
       "'5678768'"
      ]
     },
     "execution_count": 86,
     "metadata": {},
     "output_type": "execute_result"
    }
   ],
   "source": [
    "vikas.roll_no()"
   ]
  },
  {
   "cell_type": "code",
   "execution_count": 87,
   "metadata": {},
   "outputs": [
    {
     "data": {
      "text/plain": [
       "str"
      ]
     },
     "execution_count": 87,
     "metadata": {},
     "output_type": "execute_result"
    }
   ],
   "source": [
    "type(vikas.roll_no())"
   ]
  },
  {
   "cell_type": "code",
   "execution_count": 88,
   "metadata": {},
   "outputs": [
    {
     "name": "stdout",
     "output_type": "stream",
     "text": [
      "this is a student class where we can get all the data\n"
     ]
    }
   ],
   "source": [
    "print(vikas)"
   ]
  },
  {
   "cell_type": "code",
   "execution_count": 90,
   "metadata": {},
   "outputs": [],
   "source": [
    "jude=student(\"jude\",578788,2000,\"oops\")"
   ]
  },
  {
   "cell_type": "code",
   "execution_count": 91,
   "metadata": {},
   "outputs": [
    {
     "name": "stdout",
     "output_type": "stream",
     "text": [
      "duration of student in there clss is  21\n"
     ]
    }
   ],
   "source": [
    "jude.duration(2021)"
   ]
  },
  {
   "cell_type": "code",
   "execution_count": 92,
   "metadata": {},
   "outputs": [
    {
     "name": "stdout",
     "output_type": "stream",
     "text": [
      "this is a student class where we can get all the data\n"
     ]
    }
   ],
   "source": [
    "print(jude)"
   ]
  },
  {
   "cell_type": "code",
   "execution_count": 93,
   "metadata": {},
   "outputs": [
    {
     "data": {
      "text/plain": [
       "'oops'"
      ]
     },
     "execution_count": 93,
     "metadata": {},
     "output_type": "execute_result"
    }
   ],
   "source": [
    "jude.currenttopic"
   ]
  },
  {
   "cell_type": "code",
   "execution_count": 94,
   "metadata": {},
   "outputs": [],
   "source": [
    "#USING OF EXCEPTION HANDLING IN OOPS\n"
   ]
  },
  {
   "cell_type": "code",
   "execution_count": 96,
   "metadata": {},
   "outputs": [],
   "source": [
    "class student:\n",
    "    def __init__(self , name , rollno , joindate , currenttopic):\n",
    "        self.name = name\n",
    "        self.rollno = rollno\n",
    "        self.joindate = joindate\n",
    "        self.currenttopic = currenttopic\n",
    "\n",
    "    def crt_topic(self):\n",
    "        print(\"this is current topic discussed earlier\" , self.currenttopic)\n",
    "    \n",
    "    def roll_no(self):\n",
    "        try:\n",
    "            if type(self.rollno) == str:\n",
    "                print(\"do nothing\")\n",
    "            else:\n",
    "                return str(self.rollno)\n",
    "        except Exception as e:\n",
    "            print(\"this is error mesage\")\n",
    "        \n",
    "    def duration(self,current_date):\n",
    "        print('duration of student in there clss is ',current_date - self.joindate)\n",
    "    \n",
    "    def __str__(self):\n",
    "        return \"this is a student class where we can get all the data\""
   ]
  },
  {
   "cell_type": "code",
   "execution_count": 98,
   "metadata": {},
   "outputs": [],
   "source": [
    "pawan=student(['naveen','jay','himanshu','praksh'],[234,235,236,237],2021,'oops')"
   ]
  },
  {
   "cell_type": "code",
   "execution_count": 99,
   "metadata": {},
   "outputs": [],
   "source": [
    "#CREATING A FUNCTION THAT PROVIDES INDIVIDUAL NAMES WHEN LIST IS BEEN PASSED"
   ]
  },
  {
   "cell_type": "code",
   "execution_count": 102,
   "metadata": {},
   "outputs": [],
   "source": [
    "class student:\n",
    "    def __init__(self , name , rollno , joindate , currenttopic):\n",
    "        self.name = name\n",
    "        self.rollno = rollno\n",
    "        self.joindate = joindate\n",
    "        self.currenttopic = currenttopic\n",
    "        \n",
    "    def nameparsing(self):\n",
    "        if type(self.name) == list:\n",
    "            for i in self.name:\n",
    "                print(\"name of student is\",i)\n",
    "        else:\n",
    "            print(\"provided name is not in list\")\n",
    "\n",
    "    def crt_topic(self):\n",
    "        print(\"this is current topic discussed earlier\" , self.currenttopic)\n",
    "    \n",
    "    def roll_no(self):\n",
    "        try:\n",
    "            if type(self.rollno) == str:\n",
    "                print(\"do nothing\")\n",
    "            else:\n",
    "                return str(self.rollno)\n",
    "        except Exception as e:\n",
    "            print(\"this is error mesage\")\n",
    "        \n",
    "    def duration(self,current_date):\n",
    "        print('duration of student in there clss is ',current_date - self.joindate)\n",
    "    \n",
    "    def __str__(self):\n",
    "        return \"this is a student class where we can get all the data\""
   ]
  },
  {
   "cell_type": "code",
   "execution_count": 103,
   "metadata": {},
   "outputs": [],
   "source": [
    "pawan=student(['naveen','jay','himanshu','praksh'],[234,235,236,237],2021,'oops')"
   ]
  },
  {
   "cell_type": "code",
   "execution_count": 104,
   "metadata": {},
   "outputs": [
    {
     "name": "stdout",
     "output_type": "stream",
     "text": [
      "name of student is naveen\n",
      "name of student is jay\n",
      "name of student is himanshu\n",
      "name of student is praksh\n"
     ]
    }
   ],
   "source": [
    "pawan.nameparsing()"
   ]
  },
  {
   "cell_type": "code",
   "execution_count": 105,
   "metadata": {},
   "outputs": [],
   "source": [
    " #CREATING A CLASS FOR FILE OPEN,READ & WRITE OPERATIONS"
   ]
  },
  {
   "cell_type": "code",
   "execution_count": 132,
   "metadata": {},
   "outputs": [],
   "source": [
    "class data:\n",
    "    def __init__(self, filename, filetype, date, size):\n",
    "        self.filename = filename\n",
    "        self.filetype = filetype\n",
    "        self.date = date\n",
    "        self.size = size\n",
    "    \n",
    "    def file_open(self):\n",
    "        f=open(self.filename,'w')\n",
    "        f.write(\"this is my file data class\")\n",
    "        f.close()\n",
    "    \n",
    "    def file_read(self):\n",
    "        f=open(self.filename,\"r\")\n",
    "        print(f.read())\n",
    "        f.close()\n",
    "    def file_append(self):  \n",
    "        f=open(self.filename,\"a\")\n",
    "        f.write(\"these linsthat are been appended\")       \n",
    "        f.close()\n",
    "        \n",
    "    \n",
    "        "
   ]
  },
  {
   "cell_type": "code",
   "execution_count": 133,
   "metadata": {},
   "outputs": [],
   "source": [
    "f1=data('file1',\".txt\",'20012002','35mb')"
   ]
  },
  {
   "cell_type": "code",
   "execution_count": 134,
   "metadata": {},
   "outputs": [],
   "source": [
    "f1.file_open()"
   ]
  },
  {
   "cell_type": "code",
   "execution_count": 135,
   "metadata": {},
   "outputs": [
    {
     "name": "stdout",
     "output_type": "stream",
     "text": [
      "this is my file data class\n"
     ]
    }
   ],
   "source": [
    "f1.file_read()"
   ]
  },
  {
   "cell_type": "code",
   "execution_count": 136,
   "metadata": {},
   "outputs": [],
   "source": [
    "f1.file_append()"
   ]
  },
  {
   "cell_type": "code",
   "execution_count": 137,
   "metadata": {},
   "outputs": [
    {
     "name": "stdout",
     "output_type": "stream",
     "text": [
      "this is my file data classthese linsthat are been appended\n"
     ]
    }
   ],
   "source": [
    "f1.file_read()"
   ]
  },
  {
   "cell_type": "code",
   "execution_count": 138,
   "metadata": {},
   "outputs": [],
   "source": [
    "#CREATING OF CLASS THAT GET ACCESS TO MULTIPLE FILES AT ONCE"
   ]
  },
  {
   "cell_type": "code",
   "execution_count": 147,
   "metadata": {},
   "outputs": [],
   "source": [
    "class data1:\n",
    "    def __init__(self, filename, filetype, date, size):\n",
    "        self.filename = filename\n",
    "        self.filetype = filetype\n",
    "        self.date = date\n",
    "        self.size = size\n",
    "        \n",
    "        \n",
    "    def file_open(self):\n",
    "        if type(self.filename) == list or tuple:\n",
    "            for i in self.filename:\n",
    "                f=open(i,'w')\n",
    "                f.write(\"these are the lines that should be present inside every file\")\n",
    "                f.close()\n",
    "        else:\n",
    "                f=open(self.filename,'w')\n",
    "                f.write(\"these are the lines that should be present inside every file\")\n",
    "                f.close()\n",
    "    \n",
    "    def file_read(self):\n",
    "        if type(self.filename) == list or tuple:\n",
    "            for i in self.filename:\n",
    "                f=open(i,'r')\n",
    "                print(f.read())\n",
    "                f.close()\n",
    "        else:\n",
    "            f=open(self.filename,'r')\n",
    "            print(f.read())\n",
    "            f.close()\n",
    "                "
   ]
  },
  {
   "cell_type": "code",
   "execution_count": 148,
   "metadata": {},
   "outputs": [],
   "source": [
    "file1=data1(['hi','hello','hwru'],'txt','20012002','85mb')"
   ]
  },
  {
   "cell_type": "code",
   "execution_count": 149,
   "metadata": {},
   "outputs": [],
   "source": [
    "file1.file_open()"
   ]
  },
  {
   "cell_type": "code",
   "execution_count": 150,
   "metadata": {},
   "outputs": [
    {
     "name": "stdout",
     "output_type": "stream",
     "text": [
      "these are the lines that should be present inside every file\n",
      "these are the lines that should be present inside every file\n",
      "these are the lines that should be present inside every file\n"
     ]
    }
   ],
   "source": [
    "file1.file_read()"
   ]
  },
  {
   "cell_type": "code",
   "execution_count": null,
   "metadata": {},
   "outputs": [],
   "source": []
  }
 ],
 "metadata": {
  "kernelspec": {
   "display_name": "Python 3",
   "language": "python",
   "name": "python3"
  },
  "language_info": {
   "codemirror_mode": {
    "name": "ipython",
    "version": 3
   },
   "file_extension": ".py",
   "mimetype": "text/x-python",
   "name": "python",
   "nbconvert_exporter": "python",
   "pygments_lexer": "ipython3",
   "version": "3.8.5"
  }
 },
 "nbformat": 4,
 "nbformat_minor": 4
}
