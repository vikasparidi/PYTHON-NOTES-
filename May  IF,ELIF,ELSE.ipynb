{
 "cells": [
  {
   "cell_type": "markdown",
   "metadata": {},
   "source": [
    "# If ,ELIF, ELSE Statement"
   ]
  },
  {
   "cell_type": "code",
   "execution_count": 1,
   "metadata": {},
   "outputs": [
    {
     "name": "stdout",
     "output_type": "stream",
     "text": [
      "hello\n"
     ]
    }
   ],
   "source": [
    "a=10\n",
    "if a == 10:\n",
    "    print(\"hello\")"
   ]
  },
  {
   "cell_type": "code",
   "execution_count": 2,
   "metadata": {},
   "outputs": [
    {
     "name": "stdout",
     "output_type": "stream",
     "text": [
      "buddy\n"
     ]
    }
   ],
   "source": [
    "a=10\n",
    "if a >5:\n",
    "    print(\"buddy\")\n",
    "else:\n",
    "    print(\"mcsq.\")"
   ]
  },
  {
   "cell_type": "markdown",
   "metadata": {},
   "source": [
    " "
   ]
  },
  {
   "cell_type": "code",
   "execution_count": 3,
   "metadata": {},
   "outputs": [],
   "source": [
    "a=10\n",
    "if a>5:\n",
    "    pass"
   ]
  },
  {
   "cell_type": "code",
   "execution_count": 4,
   "metadata": {},
   "outputs": [
    {
     "name": "stdout",
     "output_type": "stream",
     "text": [
      "condition is true\n"
     ]
    }
   ],
   "source": [
    "a=10\n",
    "if a>8:\n",
    "    print(\"condition is true\")"
   ]
  },
  {
   "cell_type": "code",
   "execution_count": 5,
   "metadata": {},
   "outputs": [],
   "source": [
    "a=10\n",
    "if a<8:\n",
    "    print(\"hujlihu\")"
   ]
  },
  {
   "cell_type": "code",
   "execution_count": 6,
   "metadata": {},
   "outputs": [
    {
     "name": "stdout",
     "output_type": "stream",
     "text": [
      "10\n"
     ]
    }
   ],
   "source": [
    "a=10\n",
    "if a<8:\n",
    "    print(\"yuppp\")\n",
    "else:\n",
    "    print(a)"
   ]
  },
  {
   "cell_type": "code",
   "execution_count": 7,
   "metadata": {},
   "outputs": [],
   "source": [
    "a=10\n",
    "if a<8:\n",
    "    pass"
   ]
  },
  {
   "cell_type": "markdown",
   "metadata": {},
   "source": [
    "pass just skips the block of code "
   ]
  },
  {
   "cell_type": "code",
   "execution_count": 8,
   "metadata": {},
   "outputs": [
    {
     "name": "stdout",
     "output_type": "stream",
     "text": [
      "if all blocks fail this will work\n"
     ]
    }
   ],
   "source": [
    "a=10\n",
    "if a==12:\n",
    "    print(\"here we are comparing 10 with 12\")\n",
    "elif a==11:\n",
    "    print(\"we are comparing 10 wiyh 11\")\n",
    "else:\n",
    "    print(\"if all blocks fail this will work\")\n",
    "    "
   ]
  },
  {
   "cell_type": "code",
   "execution_count": 9,
   "metadata": {},
   "outputs": [
    {
     "name": "stdout",
     "output_type": "stream",
     "text": [
      "not able to buy jacket\n"
     ]
    }
   ],
   "source": [
    "price = 500\n",
    "if price>400:\n",
    "    print(\"not able to buy jacket\")\n",
    "elif price<1000:\n",
    "    print(\"able top buy jacket\")"
   ]
  },
  {
   "cell_type": "code",
   "execution_count": 10,
   "metadata": {},
   "outputs": [
    {
     "name": "stdout",
     "output_type": "stream",
     "text": [
      " will able to buy jacket\n"
     ]
    }
   ],
   "source": [
    "p = 500\n",
    "if p>500:\n",
    "    print(\" wont able to buy jacket\")\n",
    "if p<=500:\n",
    "    print(\" will able to buy jacket\")"
   ]
  },
  {
   "cell_type": "code",
   "execution_count": 11,
   "metadata": {},
   "outputs": [],
   "source": [
    "l=[1,2,3,4,5,6]\n"
   ]
  },
  {
   "cell_type": "code",
   "execution_count": 12,
   "metadata": {},
   "outputs": [
    {
     "name": "stdout",
     "output_type": "stream",
     "text": [
      "yes present\n"
     ]
    }
   ],
   "source": [
    "if 2 in l:\n",
    "    print(\"yes present\")"
   ]
  },
  {
   "cell_type": "code",
   "execution_count": 13,
   "metadata": {},
   "outputs": [
    {
     "name": "stdout",
     "output_type": "stream",
     "text": [
      "nope not there\n"
     ]
    }
   ],
   "source": [
    "if 9 in l:\n",
    "    print(\"yes there\")\n",
    "else:\n",
    "    print(\"nope not there\")"
   ]
  },
  {
   "cell_type": "code",
   "execution_count": 14,
   "metadata": {},
   "outputs": [
    {
     "data": {
      "text/plain": [
       "[1, 2, 3, 4, 5, 6]"
      ]
     },
     "execution_count": 14,
     "metadata": {},
     "output_type": "execute_result"
    }
   ],
   "source": [
    "l"
   ]
  },
  {
   "cell_type": "code",
   "execution_count": 15,
   "metadata": {},
   "outputs": [
    {
     "name": "stdout",
     "output_type": "stream",
     "text": [
      "Try to do substract\n"
     ]
    }
   ],
   "source": [
    "if 10 in l: \n",
    "    print(\"try to do addition\")\n",
    "elif 2 in l:\n",
    "    print(\"Try to do substract\")\n",
    "elif 3 in l:\n",
    "    print(\"try to do multiply\")\n"
   ]
  },
  {
   "cell_type": "markdown",
   "metadata": {},
   "source": [
    "if single condition is true it will come out of the statement , it will not check the other statements if the condition is true"
   ]
  },
  {
   "cell_type": "code",
   "execution_count": 16,
   "metadata": {},
   "outputs": [
    {
     "name": "stdout",
     "output_type": "stream",
     "text": [
      "Try to do substract\n",
      "this is new statement \n"
     ]
    }
   ],
   "source": [
    "if 10 in l: \n",
    "    print(\"try to do addition\")\n",
    "elif 2 in l:\n",
    "    print(\"Try to do substract\")\n",
    "elif 3 in l:\n",
    "    print(\"try to do multiply\")\n",
    "if 4 in l:\n",
    "    print(\"this is new statement \")"
   ]
  },
  {
   "cell_type": "markdown",
   "metadata": {},
   "source": [
    "here in this we will find two blocks\n",
    "\n",
    "\n",
    "If is mentiond the block is different. aand execution happens twice\n",
    "\n",
    "The second if is treated as completely n ew block."
   ]
  },
  {
   "cell_type": "markdown",
   "metadata": {},
   "source": [
    "This kind of statementsa are called nested if "
   ]
  },
  {
   "cell_type": "code",
   "execution_count": 17,
   "metadata": {},
   "outputs": [],
   "source": [
    "a=400"
   ]
  },
  {
   "cell_type": "code",
   "execution_count": 18,
   "metadata": {},
   "outputs": [
    {
     "name": "stdout",
     "output_type": "stream",
     "text": [
      "400\n"
     ]
    }
   ],
   "source": [
    "b=int(input())"
   ]
  },
  {
   "cell_type": "code",
   "execution_count": null,
   "metadata": {},
   "outputs": [],
   "source": []
  },
  {
   "cell_type": "code",
   "execution_count": 19,
   "metadata": {},
   "outputs": [
    {
     "data": {
      "text/plain": [
       "400"
      ]
     },
     "execution_count": 19,
     "metadata": {},
     "output_type": "execute_result"
    }
   ],
   "source": [
    "b"
   ]
  },
  {
   "cell_type": "markdown",
   "metadata": {},
   "source": [
    "*** by defauult input always coverts each and every thing into string format"
   ]
  },
  {
   "cell_type": "code",
   "execution_count": 20,
   "metadata": {},
   "outputs": [
    {
     "name": "stdout",
     "output_type": "stream",
     "text": [
      "100\n"
     ]
    }
   ],
   "source": [
    "j=input()"
   ]
  },
  {
   "cell_type": "code",
   "execution_count": 21,
   "metadata": {},
   "outputs": [
    {
     "data": {
      "text/plain": [
       "str"
      ]
     },
     "execution_count": 21,
     "metadata": {},
     "output_type": "execute_result"
    }
   ],
   "source": [
    "type(j)"
   ]
  },
  {
   "cell_type": "code",
   "execution_count": 22,
   "metadata": {},
   "outputs": [
    {
     "name": "stdout",
     "output_type": "stream",
     "text": [
      "vhjhihi\n"
     ]
    },
    {
     "ename": "ValueError",
     "evalue": "invalid literal for int() with base 10: 'vhjhihi'",
     "output_type": "error",
     "traceback": [
      "\u001b[1;31m---------------------------------------------------------------------------\u001b[0m",
      "\u001b[1;31mValueError\u001b[0m                                Traceback (most recent call last)",
      "\u001b[1;32m<ipython-input-22-c240bb403a0b>\u001b[0m in \u001b[0;36m<module>\u001b[1;34m\u001b[0m\n\u001b[1;32m----> 1\u001b[1;33m \u001b[0mj\u001b[0m\u001b[1;33m=\u001b[0m\u001b[0mint\u001b[0m\u001b[1;33m(\u001b[0m\u001b[0minput\u001b[0m\u001b[1;33m(\u001b[0m\u001b[1;33m)\u001b[0m\u001b[1;33m)\u001b[0m\u001b[1;33m\u001b[0m\u001b[1;33m\u001b[0m\u001b[0m\n\u001b[0m",
      "\u001b[1;31mValueError\u001b[0m: invalid literal for int() with base 10: 'vhjhihi'"
     ]
    }
   ],
   "source": [
    "j=int(input())"
   ]
  },
  {
   "cell_type": "code",
   "execution_count": 23,
   "metadata": {},
   "outputs": [
    {
     "data": {
      "text/plain": [
       "'100'"
      ]
     },
     "execution_count": 23,
     "metadata": {},
     "output_type": "execute_result"
    }
   ],
   "source": [
    "j\n"
   ]
  },
  {
   "cell_type": "code",
   "execution_count": 24,
   "metadata": {},
   "outputs": [
    {
     "name": "stdout",
     "output_type": "stream",
     "text": [
      "21301\n"
     ]
    }
   ],
   "source": [
    "j=int(input())"
   ]
  },
  {
   "cell_type": "code",
   "execution_count": 25,
   "metadata": {},
   "outputs": [
    {
     "name": "stdout",
     "output_type": "stream",
     "text": [
      "bjhik\n"
     ]
    },
    {
     "ename": "ValueError",
     "evalue": "invalid literal for int() with base 10: 'bjhik'",
     "output_type": "error",
     "traceback": [
      "\u001b[1;31m---------------------------------------------------------------------------\u001b[0m",
      "\u001b[1;31mValueError\u001b[0m                                Traceback (most recent call last)",
      "\u001b[1;32m<ipython-input-25-80d97c3f099a>\u001b[0m in \u001b[0;36m<module>\u001b[1;34m\u001b[0m\n\u001b[1;32m----> 1\u001b[1;33m \u001b[0mprice\u001b[0m\u001b[1;33m=\u001b[0m\u001b[0mint\u001b[0m\u001b[1;33m(\u001b[0m\u001b[0minput\u001b[0m\u001b[1;33m(\u001b[0m\u001b[1;33m)\u001b[0m\u001b[1;33m)\u001b[0m\u001b[1;33m\u001b[0m\u001b[1;33m\u001b[0m\u001b[0m\n\u001b[0m\u001b[0;32m      2\u001b[0m \u001b[1;32mif\u001b[0m \u001b[0mprice\u001b[0m \u001b[1;33m<\u001b[0m \u001b[1;36m500\u001b[0m\u001b[1;33m:\u001b[0m\u001b[1;33m\u001b[0m\u001b[1;33m\u001b[0m\u001b[0m\n\u001b[0;32m      3\u001b[0m     \u001b[0mprint\u001b[0m\u001b[1;33m(\u001b[0m\u001b[1;34m\"I will be able to buy something\"\u001b[0m\u001b[1;33m)\u001b[0m\u001b[1;33m\u001b[0m\u001b[1;33m\u001b[0m\u001b[0m\n\u001b[0;32m      4\u001b[0m     \u001b[1;32mif\u001b[0m \u001b[0mprice\u001b[0m \u001b[1;33m<\u001b[0m \u001b[1;36m400\u001b[0m\u001b[1;33m:\u001b[0m\u001b[1;33m\u001b[0m\u001b[1;33m\u001b[0m\u001b[0m\n\u001b[0;32m      5\u001b[0m         \u001b[0mprint\u001b[0m\u001b[1;33m(\u001b[0m\u001b[1;34m\"I will be able to buy jacket\"\u001b[0m\u001b[1;33m)\u001b[0m\u001b[1;33m\u001b[0m\u001b[1;33m\u001b[0m\u001b[0m\n",
      "\u001b[1;31mValueError\u001b[0m: invalid literal for int() with base 10: 'bjhik'"
     ]
    }
   ],
   "source": [
    "price=int(input())\n",
    "if price < 500:\n",
    "    print(\"I will be able to buy something\")\n",
    "    if price < 400:\n",
    "        print(\"I will be able to buy jacket\")\n",
    "    elif price < 300:\n",
    "        print(\" i will be able to buy \")\n",
    "    else:\n",
    "        print(\"i wont be able to\")\n",
    "else:\n",
    "    print(\"i wont be able to buy anything \")"
   ]
  },
  {
   "cell_type": "code",
   "execution_count": 26,
   "metadata": {},
   "outputs": [
    {
     "name": "stdout",
     "output_type": "stream",
     "text": [
      "522\n",
      "i wont be able to buy anything \n"
     ]
    }
   ],
   "source": [
    "price=int(input())\n",
    "if price < 500:\n",
    "    print(\"I will be able to buy something\")\n",
    "    if price < 400:\n",
    "        print(\"I will be able to buy jacket\")\n",
    "    elif price < 300:\n",
    "        print(\" i will be able to buy \")\n",
    "    else:\n",
    "        print(\"i wont be able to\")\n",
    "else:\n",
    "    print(\"i wont be able to buy anything \")"
   ]
  },
  {
   "cell_type": "code",
   "execution_count": 27,
   "metadata": {},
   "outputs": [
    {
     "name": "stdout",
     "output_type": "stream",
     "text": [
      "600\n",
      "i wont be able to buy anything \n"
     ]
    }
   ],
   "source": [
    "price=int(input())\n",
    "if price < 500:\n",
    "    print(\"I will be able to buy something\")\n",
    "    if price < 400:\n",
    "        print(\"I will be able to buy jacket\")\n",
    "    elif price < 300:\n",
    "        print(\" i will be able to buy \")\n",
    "    else:\n",
    "        print(\"i wont be able to\")\n",
    "else:\n",
    "    print(\"i wont be able to buy anything \")"
   ]
  },
  {
   "cell_type": "code",
   "execution_count": 24,
   "metadata": {},
   "outputs": [
    {
     "name": "stdout",
     "output_type": "stream",
     "text": [
      "600\n",
      "i wont be able to buy anything \n",
      "lest try something new\n"
     ]
    }
   ],
   "source": [
    "price=int(input())\n",
    "if price < 500:\n",
    "    print(\"I will be able to buy something\")\n",
    "    if price < 400:\n",
    "        print(\"I will be able to buy jacket\")\n",
    "    elif price < 300:\n",
    "        print(\" i will be able to buy \")\n",
    "    else:\n",
    "        print(\"i wont be able to\")\n",
    "else:\n",
    "    print(\"i wont be able to buy anything \")\n",
    "    if price > 500:\n",
    "        print(\"lest try something new\")"
   ]
  },
  {
   "cell_type": "code",
   "execution_count": null,
   "metadata": {},
   "outputs": [],
   "source": []
  },
  {
   "cell_type": "code",
   "execution_count": 33,
   "metadata": {},
   "outputs": [
    {
     "name": "stdout",
     "output_type": "stream",
     "text": [
      "850\n",
      "able to write gre \n"
     ]
    }
   ],
   "source": [
    "m=int(input())\n",
    "if m > 600 :\n",
    "    print(\"able to write gre \")\n",
    "else:\n",
    "    print(\"not able to write gre \")\n",
    "    if m < 400:\n",
    "        print(\"try something else\")\n",
    "    elif m < 500:\n",
    "        print(\" ablr to write tofffle\")"
   ]
  },
  {
   "cell_type": "code",
   "execution_count": 34,
   "metadata": {},
   "outputs": [
    {
     "name": "stdout",
     "output_type": "stream",
     "text": [
      "450\n",
      "not able to write gre \n",
      " ablr to write tofffle\n"
     ]
    }
   ],
   "source": [
    "m=int(input())\n",
    "if m > 600 :\n",
    "    print(\"able to write gre \")\n",
    "else:\n",
    "    print(\"not able to write gre \")\n",
    "    if m < 400:\n",
    "        print(\"try something else\")\n",
    "    elif m < 500:\n",
    "        print(\" ablr to write tofffle\")"
   ]
  },
  {
   "cell_type": "code",
   "execution_count": 37,
   "metadata": {},
   "outputs": [
    {
     "name": "stdout",
     "output_type": "stream",
     "text": [
      "enter a floating point number = -5\n",
      "entered number is negative\n"
     ]
    }
   ],
   "source": [
    "val = float(input(\"enter a floating point number = \"))\n",
    "if val >= 0:\n",
    "    if val == 0:\n",
    "        print(\"entered value is 0\")\n",
    "    else: \n",
    "        print(\"Entered value is positive\")\n",
    "else:\n",
    "    print(\"entered number is negative\")"
   ]
  },
  {
   "cell_type": "code",
   "execution_count": 38,
   "metadata": {},
   "outputs": [
    {
     "name": "stdout",
     "output_type": "stream",
     "text": [
      "enter a floating point number = 56\n",
      "Entered value is positive\n"
     ]
    }
   ],
   "source": [
    "val = float(input(\"enter a floating point number = \"))\n",
    "if val >= 0:\n",
    "    if val == 0:\n",
    "        print(\"entered value is 0\")\n",
    "    else: \n",
    "        print(\"Entered value is positive\")\n",
    "else:\n",
    "    print(\"entered number is negative\")"
   ]
  },
  {
   "cell_type": "code",
   "execution_count": 39,
   "metadata": {},
   "outputs": [
    {
     "name": "stdout",
     "output_type": "stream",
     "text": [
      "enter a floating point number = -0\n",
      "entered value is 0\n"
     ]
    }
   ],
   "source": [
    "val = float(input(\"enter a floating point number = \"))\n",
    "if val >= 0:\n",
    "    if val == 0:\n",
    "        print(\"entered value is 0\")\n",
    "    else: \n",
    "        print(\"Entered value is positive\")\n",
    "else:\n",
    "    print(\"entered number is negative\")"
   ]
  },
  {
   "cell_type": "code",
   "execution_count": 40,
   "metadata": {},
   "outputs": [
    {
     "name": "stdout",
     "output_type": "stream",
     "text": [
      "try to do somethng\n"
     ]
    }
   ],
   "source": [
    "a=10\n",
    "if a<= 10:\n",
    "    print(\"try to do somethng\")"
   ]
  },
  {
   "cell_type": "markdown",
   "metadata": {},
   "source": [
    "we can also or & and for operations"
   ]
  },
  {
   "cell_type": "code",
   "execution_count": 42,
   "metadata": {},
   "outputs": [
    {
     "name": "stdout",
     "output_type": "stream",
     "text": [
      "5\n",
      "try to do something \n"
     ]
    }
   ],
   "source": [
    "a =int(input()) \n",
    "if a < 10 or a == 10:\n",
    "    print(\"try to do something \")"
   ]
  },
  {
   "cell_type": "code",
   "execution_count": 43,
   "metadata": {},
   "outputs": [
    {
     "name": "stdout",
     "output_type": "stream",
     "text": [
      "10\n"
     ]
    }
   ],
   "source": [
    "a =int(input()) \n",
    "if a < 10 or a > 10:\n",
    "    print(\"try to do something \")"
   ]
  },
  {
   "cell_type": "markdown",
   "metadata": {},
   "source": [
    "same like of truth tables the statements for or, and operations will work"
   ]
  },
  {
   "cell_type": "code",
   "execution_count": 45,
   "metadata": {},
   "outputs": [
    {
     "name": "stdout",
     "output_type": "stream",
     "text": [
      "python is case sensitive\n"
     ]
    }
   ],
   "source": [
    "a=\"vikas\"\n",
    "if a == \"vikas\" and a ==\"Vikas\":\n",
    "    print(\"no outcome\")\n",
    "else:\n",
    "    print(\"python is case sensitive\")"
   ]
  },
  {
   "cell_type": "code",
   "execution_count": 46,
   "metadata": {},
   "outputs": [],
   "source": [
    "a=10\n",
    "b=11\n",
    "c=12\n",
    "d=13\n",
    "if a == 9 and b ==11 and c == 12 and d == 13:\n",
    "    print(\"lets do something\")"
   ]
  },
  {
   "cell_type": "markdown",
   "metadata": {},
   "source": [
    "in the abve one we used and operator .... in and if one condition i false everything is false"
   ]
  },
  {
   "cell_type": "code",
   "execution_count": 47,
   "metadata": {},
   "outputs": [
    {
     "name": "stdout",
     "output_type": "stream",
     "text": [
      "lets do something\n"
     ]
    }
   ],
   "source": [
    "a=10\n",
    "b=11\n",
    "c=12\n",
    "d=13\n",
    "if a == 9 or b ==11 or c == 12 or d == 13:\n",
    "    print(\"lets do something\")"
   ]
  },
  {
   "cell_type": "code",
   "execution_count": 49,
   "metadata": {},
   "outputs": [],
   "source": [
    "d={'key1':\"values\",\"key2\":\"sudh\",\"key3\":\"ineuron\"}"
   ]
  },
  {
   "cell_type": "code",
   "execution_count": 50,
   "metadata": {},
   "outputs": [
    {
     "name": "stdout",
     "output_type": "stream",
     "text": [
      "all the values are verified\n",
      "dict_values(['values', 'sudh', 'ineuron'])\n"
     ]
    }
   ],
   "source": [
    "if d['key1'] == \"values\" and d[\"key2\"] == \"sudh\" and d[\"key3\"] ==   \"ineuron\":\n",
    "    print(\"all the values are verified\")\n",
    "    print(d.values())"
   ]
  },
  {
   "cell_type": "code",
   "execution_count": 51,
   "metadata": {},
   "outputs": [
    {
     "data": {
      "text/plain": [
       "'values'"
      ]
     },
     "execution_count": 51,
     "metadata": {},
     "output_type": "execute_result"
    }
   ],
   "source": [
    "d['key1']"
   ]
  },
  {
   "cell_type": "code",
   "execution_count": 52,
   "metadata": {},
   "outputs": [],
   "source": [
    "d[\"y\"] = 124"
   ]
  },
  {
   "cell_type": "code",
   "execution_count": 53,
   "metadata": {},
   "outputs": [
    {
     "data": {
      "text/plain": [
       "{'key1': 'values', 'key2': 'sudh', 'key3': 'ineuron', 'y': 124}"
      ]
     },
     "execution_count": 53,
     "metadata": {},
     "output_type": "execute_result"
    }
   ],
   "source": [
    "d"
   ]
  },
  {
   "cell_type": "code",
   "execution_count": 57,
   "metadata": {},
   "outputs": [
    {
     "name": "stdout",
     "output_type": "stream",
     "text": [
      "all the values are verified\n",
      "dict_values(['values', 'sudh', 'ineuron', 124])\n"
     ]
    }
   ],
   "source": [
    "if d['key1'] == \"values\" and d[\"key2\"] == \"sudh\" and d[\"key3\"] == \"ineuron\":\n",
    "    print(\"all the values are verified\")\n",
    "    print(d.values())\n",
    "else:\n",
    "    print(\"all the values are not verified\")"
   ]
  },
  {
   "cell_type": "code",
   "execution_count": 58,
   "metadata": {},
   "outputs": [
    {
     "name": "stdout",
     "output_type": "stream",
     "text": [
      "3\n",
      "4\n",
      "5\n",
      "6\n",
      "7\n"
     ]
    }
   ],
   "source": [
    "l=[1,2,3,4,5]\n",
    "for i in l:\n",
    "    print(i + 2)"
   ]
  },
  {
   "cell_type": "code",
   "execution_count": 59,
   "metadata": {},
   "outputs": [
    {
     "name": "stdout",
     "output_type": "stream",
     "text": [
      "1\n",
      "2\n",
      "3\n",
      "4\n",
      "5\n"
     ]
    }
   ],
   "source": [
    "for i in l:\n",
    "    print(i)"
   ]
  },
  {
   "cell_type": "code",
   "execution_count": 61,
   "metadata": {},
   "outputs": [],
   "source": [
    "l.extend([11,21,\"vik\"])"
   ]
  },
  {
   "cell_type": "code",
   "execution_count": 62,
   "metadata": {},
   "outputs": [
    {
     "data": {
      "text/plain": [
       "[1, 2, 3, 4, 5, 11, 21, 'vik']"
      ]
     },
     "execution_count": 62,
     "metadata": {},
     "output_type": "execute_result"
    }
   ],
   "source": [
    "l"
   ]
  },
  {
   "cell_type": "code",
   "execution_count": 65,
   "metadata": {},
   "outputs": [
    {
     "name": "stdout",
     "output_type": "stream",
     "text": [
      "3\n",
      "4\n",
      "5\n",
      "6\n",
      "7\n",
      "13\n",
      "23\n"
     ]
    },
    {
     "ename": "TypeError",
     "evalue": "can only concatenate str (not \"int\") to str",
     "output_type": "error",
     "traceback": [
      "\u001b[1;31m---------------------------------------------------------------------------\u001b[0m",
      "\u001b[1;31mTypeError\u001b[0m                                 Traceback (most recent call last)",
      "\u001b[1;32m<ipython-input-65-45816e50e602>\u001b[0m in \u001b[0;36m<module>\u001b[1;34m\u001b[0m\n\u001b[0;32m      1\u001b[0m \u001b[1;32mfor\u001b[0m \u001b[0mi\u001b[0m \u001b[1;32min\u001b[0m \u001b[0ml\u001b[0m\u001b[1;33m:\u001b[0m\u001b[1;33m\u001b[0m\u001b[1;33m\u001b[0m\u001b[0m\n\u001b[1;32m----> 2\u001b[1;33m     \u001b[0mprint\u001b[0m\u001b[1;33m(\u001b[0m\u001b[0mi\u001b[0m\u001b[1;33m+\u001b[0m\u001b[1;36m2\u001b[0m\u001b[1;33m)\u001b[0m\u001b[1;33m\u001b[0m\u001b[1;33m\u001b[0m\u001b[0m\n\u001b[0m",
      "\u001b[1;31mTypeError\u001b[0m: can only concatenate str (not \"int\") to str"
     ]
    }
   ],
   "source": [
    "for i in l:\n",
    "    print(i+2)"
   ]
  },
  {
   "cell_type": "code",
   "execution_count": null,
   "metadata": {},
   "outputs": [],
   "source": []
  }
 ],
 "metadata": {
  "kernelspec": {
   "display_name": "Python 3",
   "language": "python",
   "name": "python3"
  },
  "language_info": {
   "codemirror_mode": {
    "name": "ipython",
    "version": 3
   },
   "file_extension": ".py",
   "mimetype": "text/x-python",
   "name": "python",
   "nbconvert_exporter": "python",
   "pygments_lexer": "ipython3",
   "version": "3.8.5"
  }
 },
 "nbformat": 4,
 "nbformat_minor": 4
}
